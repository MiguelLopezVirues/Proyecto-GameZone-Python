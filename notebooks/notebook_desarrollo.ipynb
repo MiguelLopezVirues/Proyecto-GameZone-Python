{
 "cells": [
  {
   "cell_type": "code",
   "execution_count": 1,
   "metadata": {},
   "outputs": [],
   "source": [
    "%load_ext autoreload\n",
    "from functools import reduce\n",
    "import random\n",
    "from pathlib import Path\n",
    "import sys\n",
    "sys.path.append(\"../\")\n",
    "from ressources.ahorcado_recursos import HANGMANPICS, HANGMANPIC_SUCCESS,HANGMANPIC_DEATH, palabras_ahorcado"
   ]
  },
  {
   "cell_type": "code",
   "execution_count": 21,
   "metadata": {},
   "outputs": [],
   "source": [
    "### Apuntes\n",
    "# Valorar si hay forma mejor deshacerme del uso de la copia lista por su método remove\n",
    "#\n",
    "\n",
    "class Ahorcado():\n",
    "    def __init__(self) -> None:\n",
    "        self.intentos = list()\n",
    "        self.display_palabra_lista = list()\n",
    "        self.dibujo = \"\"\n",
    "\n",
    "    def jugar(self):\n",
    "        self.seleccionar_dificultad()\n",
    "        self.generar_palabra()\n",
    "        self.pintar_dibujo()\n",
    "        while \"_\" in self.display_palabra_lista and self.vidas_restantes > 0:\n",
    "            letra_intento = input(\"Escribe una letra:\")\n",
    "            self.comprobar_letra(letra_intento)\n",
    "            self.pintar_dibujo()\n",
    "            self.pintar_display()\n",
    "        if \"_\" not in self.display_palabra_lista:\n",
    "            self.actualizar_dibujo(self.vidas_restantes,\"win\")\n",
    "            print(\"\\n¡Enhorabuena, has ganado!\")\n",
    "\n",
    "        else:\n",
    "            self.actualizar_dibujo(self.vidas_restantes,\"loss\")\n",
    "            print(\"¡NOOOO, has matado al ahorcado!\")\n",
    "            \n",
    "        self.pintar_dibujo()\n",
    "        self.reset()\n",
    "\n",
    "    \n",
    "    def seleccionar_dificultad(self):\n",
    "        self.vidas_restantes = int(input(\"\"\"Elige tu dificultad introduciendo el número de vidas:\n",
    "              Patético: 7 vidas\n",
    "              Nenaza: 6 vidas\n",
    "              Principiante: 5 vidas\n",
    "              Corriente: 4 vidas\n",
    "              Atrevido: 3 vidas\n",
    "              Leyenda: 2 vidas\n",
    "              Puto colgao: 1 vida\n",
    "              \"\"\"))\n",
    "        self.dibujo = HANGMANPICS[-self.vidas_restantes]\n",
    "\n",
    "    def pintar_display(self):\n",
    "        \"\"\"\"\"\"\n",
    "        display_palabra = \"\".join(self.display_palabra_lista)\n",
    "        print(display_palabra)\n",
    "        print(f\"Te quedan {self.vidas_restantes} vidas restantes.\")\n",
    "\n",
    "\n",
    "    def pintar_dibujo(self):\n",
    "        \"\"\"\"\"\"\n",
    "        print(self.dibujo)\n",
    "\n",
    "\n",
    "    def generar_palabra(self) -> None:\n",
    "        \"\"\"\"\"\"\n",
    "        self.palabra_turno_lista = list(random.choice(palabras_ahorcado).lower()) \n",
    "        self.display_palabra_lista = list(\"_\"*len(self.palabra_turno_lista))\n",
    "\n",
    "\n",
    "\n",
    "    def comprobar_letra(self, letra_intento) -> bool:\n",
    "        \"\"\"\"\"\"\n",
    "        if letra_intento in self.palabra_turno_lista:\n",
    "\n",
    "            print(\"¡Acierto!\")\n",
    "            self.actualizar_display(letra_intento)\n",
    "                \n",
    "        else: \n",
    "            self.vidas_restantes -= 1\n",
    "            resultado = \"error\"\n",
    "            self.actualizar_dibujo(self.vidas_restantes,resultado)\n",
    "            \n",
    "            print(\"¡Error!\")\n",
    "\n",
    "        # if \"_\" not in self.display_palabra_lista:\n",
    "        #     self.actualizar_dibujo(self.vidas_restantes,resultado)\n",
    "        #     self.pintar_dibujo()\n",
    "        #     print(\"¡Enhorabuena, has ganado!\")\n",
    "        #     self.reset()\n",
    "        # else:\n",
    "        #     self.pintar_dibujo()\n",
    "        #     self.pintar_display()\n",
    "\n",
    "        # return resultado\n",
    "\n",
    "    def actualizar_display(self,letra_intento):\n",
    "        while letra_intento in self.palabra_turno_lista:\n",
    "            posicion_letra = self.palabra_turno_lista.index(letra_intento)\n",
    "            self.display_palabra_lista[posicion_letra] = letra_intento.upper()\n",
    "            self.palabra_turno_lista[posicion_letra] = \"_\"\n",
    "\n",
    "    \n",
    "    def actualizar_dibujo(self,vidas_restantes,resultado=\"error\") -> None:\n",
    "        \"\"\"\"\"\"\n",
    "        if resultado == \"win\":\n",
    "            self.dibujo = HANGMANPIC_SUCCESS\n",
    "        elif resultado == \"loss\":\n",
    "            self.dibujo = HANGMANPIC_DEATH\n",
    "        else:\n",
    "            self.dibujo = HANGMANPICS[-vidas_restantes]\n",
    "\n",
    "    def reset(self):\n",
    "        seguir_jugando = input(\"¿Deseas volver a jugar? [Y/N]\")\n",
    "        if seguir_jugando == \"Y\":\n",
    "            self.intentos = list()\n",
    "            self.display_palabra_lista = list()\n",
    "            self.generar_palabra()\n",
    "        else:\n",
    "            print(\"¡Ha sido un placer!\")"
   ]
  },
  {
   "cell_type": "code",
   "execution_count": 22,
   "metadata": {},
   "outputs": [],
   "source": [
    "juego = Ahorcado()"
   ]
  },
  {
   "cell_type": "code",
   "execution_count": 23,
   "metadata": {},
   "outputs": [
    {
     "name": "stdout",
     "output_type": "stream",
     "text": [
      "\n",
      "  +---+\n",
      "  |   |\n",
      "  O   |\n",
      " /|\\  |\n",
      "      |\n",
      "      |\n",
      "=========\n",
      "¡Acierto!\n",
      "\n",
      "  +---+\n",
      "  |   |\n",
      "  O   |\n",
      " /|\\  |\n",
      "      |\n",
      "      |\n",
      "=========\n",
      "P____\n",
      "Te quedan 3 vidas restantes.\n",
      "¡Acierto!\n",
      "\n",
      "  +---+\n",
      "  |   |\n",
      "  O   |\n",
      " /|\\  |\n",
      "      |\n",
      "      |\n",
      "=========\n",
      "PE___\n",
      "Te quedan 3 vidas restantes.\n",
      "¡Acierto!\n",
      "\n",
      "  +---+\n",
      "  |   |\n",
      "  O   |\n",
      " /|\\  |\n",
      "      |\n",
      "      |\n",
      "=========\n",
      "PERR_\n",
      "Te quedan 3 vidas restantes.\n",
      "¡Acierto!\n",
      "\n",
      "  +---+\n",
      "  |   |\n",
      "  O   |\n",
      " /|\\  |\n",
      "      |\n",
      "      |\n",
      "=========\n",
      "PERRO\n",
      "Te quedan 3 vidas restantes.\n",
      "\n",
      "¡Enhorabuena, has ganado!\n",
      "\n",
      "  \\O/  \n",
      "   |  \n",
      "  / \\ \n",
      "\n",
      "what\n",
      "¡Ha sido un placer!\n"
     ]
    }
   ],
   "source": [
    "palabra = juego.jugar()\n",
    "palabra = juego"
   ]
  },
  {
   "cell_type": "code",
   "execution_count": 62,
   "metadata": {},
   "outputs": [
    {
     "name": "stdout",
     "output_type": "stream",
     "text": [
      "¡Acierto!\n",
      "\n",
      "  +---+\n",
      "  |   |\n",
      "  O   |\n",
      " /|\\  |\n",
      "      |\n",
      "      |\n",
      "=========\n",
      "P____\n",
      "Te quedan 3 vidas restantes.\n"
     ]
    }
   ],
   "source": [
    "juego.comprobar_letra(\"p\")"
   ]
  },
  {
   "cell_type": "code",
   "execution_count": 63,
   "metadata": {},
   "outputs": [
    {
     "name": "stdout",
     "output_type": "stream",
     "text": [
      "¡Acierto!\n",
      "\n",
      "  +---+\n",
      "  |   |\n",
      "  O   |\n",
      " /|\\  |\n",
      "      |\n",
      "      |\n",
      "=========\n",
      "P_RR_\n",
      "Te quedan 3 vidas restantes.\n"
     ]
    }
   ],
   "source": [
    "juego.comprobar_letra(\"r\")"
   ]
  },
  {
   "cell_type": "code",
   "execution_count": 64,
   "metadata": {},
   "outputs": [
    {
     "name": "stdout",
     "output_type": "stream",
     "text": [
      "¡Acierto!\n",
      "\n",
      "  +---+\n",
      "  |   |\n",
      "  O   |\n",
      " /|\\  |\n",
      "      |\n",
      "      |\n",
      "=========\n",
      "PERR_\n",
      "Te quedan 3 vidas restantes.\n"
     ]
    }
   ],
   "source": [
    "juego.comprobar_letra(\"e\")"
   ]
  },
  {
   "cell_type": "code",
   "execution_count": 65,
   "metadata": {},
   "outputs": [
    {
     "name": "stdout",
     "output_type": "stream",
     "text": [
      "¡Acierto!\n",
      "\n",
      "  \\O/  \n",
      "   |  \n",
      "  / \\ \n",
      "\n",
      "¡Enhorabuena, has ganado!\n"
     ]
    },
    {
     "ename": "ValueError",
     "evalue": "invalid literal for int() with base 10: ''",
     "output_type": "error",
     "traceback": [
      "\u001b[1;31m---------------------------------------------------------------------------\u001b[0m",
      "\u001b[1;31mValueError\u001b[0m                                Traceback (most recent call last)",
      "Cell \u001b[1;32mIn[65], line 1\u001b[0m\n\u001b[1;32m----> 1\u001b[0m \u001b[43mjuego\u001b[49m\u001b[38;5;241;43m.\u001b[39;49m\u001b[43mcomprobar_letra\u001b[49m\u001b[43m(\u001b[49m\u001b[38;5;124;43m\"\u001b[39;49m\u001b[38;5;124;43mo\u001b[39;49m\u001b[38;5;124;43m\"\u001b[39;49m\u001b[43m)\u001b[49m\n",
      "Cell \u001b[1;32mIn[59], line 62\u001b[0m, in \u001b[0;36mAhorcado.comprobar_letra\u001b[1;34m(self, letra_intento)\u001b[0m\n\u001b[0;32m     60\u001b[0m     \u001b[38;5;28mself\u001b[39m\u001b[38;5;241m.\u001b[39mpintar_dibujo()\n\u001b[0;32m     61\u001b[0m     \u001b[38;5;28mprint\u001b[39m(\u001b[38;5;124m\"\u001b[39m\u001b[38;5;124m¡Enhorabuena, has ganado!\u001b[39m\u001b[38;5;124m\"\u001b[39m)\n\u001b[1;32m---> 62\u001b[0m     \u001b[38;5;28;43mself\u001b[39;49m\u001b[38;5;241;43m.\u001b[39;49m\u001b[43mreset\u001b[49m\u001b[43m(\u001b[49m\u001b[43m)\u001b[49m\n\u001b[0;32m     63\u001b[0m \u001b[38;5;28;01melse\u001b[39;00m:\n\u001b[0;32m     64\u001b[0m     \u001b[38;5;28mself\u001b[39m\u001b[38;5;241m.\u001b[39mpintar_dibujo()\n",
      "Cell \u001b[1;32mIn[59], line 87\u001b[0m, in \u001b[0;36mAhorcado.reset\u001b[1;34m(self)\u001b[0m\n\u001b[0;32m     85\u001b[0m \u001b[38;5;28mself\u001b[39m\u001b[38;5;241m.\u001b[39mintentos \u001b[38;5;241m=\u001b[39m \u001b[38;5;28mlist\u001b[39m()\n\u001b[0;32m     86\u001b[0m \u001b[38;5;28mself\u001b[39m\u001b[38;5;241m.\u001b[39mdisplay_palabra_lista \u001b[38;5;241m=\u001b[39m \u001b[38;5;28mlist\u001b[39m()\n\u001b[1;32m---> 87\u001b[0m \u001b[38;5;28;43mself\u001b[39;49m\u001b[38;5;241;43m.\u001b[39;49m\u001b[43mgenerar_palabra\u001b[49m\u001b[43m(\u001b[49m\u001b[43m)\u001b[49m\n",
      "Cell \u001b[1;32mIn[59], line 36\u001b[0m, in \u001b[0;36mAhorcado.generar_palabra\u001b[1;34m(self)\u001b[0m\n\u001b[0;32m     34\u001b[0m \u001b[38;5;28;01mdef\u001b[39;00m \u001b[38;5;21mgenerar_palabra\u001b[39m(\u001b[38;5;28mself\u001b[39m) \u001b[38;5;241m-\u001b[39m\u001b[38;5;241m>\u001b[39m \u001b[38;5;28;01mNone\u001b[39;00m:\n\u001b[0;32m     35\u001b[0m \u001b[38;5;250m    \u001b[39m\u001b[38;5;124;03m\"\"\"\"\"\"\u001b[39;00m\n\u001b[1;32m---> 36\u001b[0m     \u001b[38;5;28;43mself\u001b[39;49m\u001b[38;5;241;43m.\u001b[39;49m\u001b[43mseleccionar_dificultad\u001b[49m\u001b[43m(\u001b[49m\u001b[43m)\u001b[49m\n\u001b[0;32m     37\u001b[0m     \u001b[38;5;28mself\u001b[39m\u001b[38;5;241m.\u001b[39mpalabra_turno_lista \u001b[38;5;241m=\u001b[39m \u001b[38;5;28mlist\u001b[39m(random\u001b[38;5;241m.\u001b[39mchoice(palabras_ahorcado)\u001b[38;5;241m.\u001b[39mlower()) \n\u001b[0;32m     38\u001b[0m     \u001b[38;5;28mself\u001b[39m\u001b[38;5;241m.\u001b[39mdisplay_palabra_lista \u001b[38;5;241m=\u001b[39m \u001b[38;5;28mlist\u001b[39m(\u001b[38;5;124m\"\u001b[39m\u001b[38;5;124m_\u001b[39m\u001b[38;5;124m\"\u001b[39m\u001b[38;5;241m*\u001b[39m\u001b[38;5;28mlen\u001b[39m(\u001b[38;5;28mself\u001b[39m\u001b[38;5;241m.\u001b[39mpalabra_turno_lista))\n",
      "Cell \u001b[1;32mIn[59], line 11\u001b[0m, in \u001b[0;36mAhorcado.seleccionar_dificultad\u001b[1;34m(self)\u001b[0m\n\u001b[0;32m     10\u001b[0m \u001b[38;5;28;01mdef\u001b[39;00m \u001b[38;5;21mseleccionar_dificultad\u001b[39m(\u001b[38;5;28mself\u001b[39m):\n\u001b[1;32m---> 11\u001b[0m     \u001b[38;5;28mself\u001b[39m\u001b[38;5;241m.\u001b[39mvidas_restantes \u001b[38;5;241m=\u001b[39m \u001b[38;5;28;43mint\u001b[39;49m\u001b[43m(\u001b[49m\u001b[38;5;28;43minput\u001b[39;49m\u001b[43m(\u001b[49m\u001b[38;5;124;43m\"\"\"\u001b[39;49m\u001b[38;5;124;43mElige tu dificultad introduciendo el número de vidas:\u001b[39;49m\n\u001b[0;32m     12\u001b[0m \u001b[38;5;124;43m          Patético: 7 vidas\u001b[39;49m\n\u001b[0;32m     13\u001b[0m \u001b[38;5;124;43m          Nenaza: 6 vidas\u001b[39;49m\n\u001b[0;32m     14\u001b[0m \u001b[38;5;124;43m          Principiante: 5 vidas\u001b[39;49m\n\u001b[0;32m     15\u001b[0m \u001b[38;5;124;43m          Corriente: 4 vidas\u001b[39;49m\n\u001b[0;32m     16\u001b[0m \u001b[38;5;124;43m          Atrevido: 3 vidas\u001b[39;49m\n\u001b[0;32m     17\u001b[0m \u001b[38;5;124;43m          Leyenda: 2 vidas\u001b[39;49m\n\u001b[0;32m     18\u001b[0m \u001b[38;5;124;43m          Puto colgao: 1 vida\u001b[39;49m\n\u001b[0;32m     19\u001b[0m \u001b[38;5;124;43m          \u001b[39;49m\u001b[38;5;124;43m\"\"\"\u001b[39;49m\u001b[43m)\u001b[49m\u001b[43m)\u001b[49m\n\u001b[0;32m     20\u001b[0m     \u001b[38;5;28mself\u001b[39m\u001b[38;5;241m.\u001b[39mdibujo \u001b[38;5;241m=\u001b[39m HANGMANPICS[\u001b[38;5;241m-\u001b[39m\u001b[38;5;28mself\u001b[39m\u001b[38;5;241m.\u001b[39mvidas_restantes]\n",
      "\u001b[1;31mValueError\u001b[0m: invalid literal for int() with base 10: ''"
     ]
    }
   ],
   "source": [
    "juego.comprobar_letra(\"o\")"
   ]
  },
  {
   "cell_type": "code",
   "execution_count": null,
   "metadata": {},
   "outputs": [],
   "source": []
  }
 ],
 "metadata": {
  "kernelspec": {
   "display_name": "1._GameZone-83q7STzF",
   "language": "python",
   "name": "python3"
  },
  "language_info": {
   "codemirror_mode": {
    "name": "ipython",
    "version": 3
   },
   "file_extension": ".py",
   "mimetype": "text/x-python",
   "name": "python",
   "nbconvert_exporter": "python",
   "pygments_lexer": "ipython3",
   "version": "3.11.4"
  }
 },
 "nbformat": 4,
 "nbformat_minor": 2
}
