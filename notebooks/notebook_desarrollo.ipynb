{
 "cells": [
  {
   "cell_type": "code",
   "execution_count": 1,
   "metadata": {},
   "outputs": [],
   "source": [
    "%load_ext autoreload\n",
    "from functools import reduce\n",
    "import random\n",
    "from pathlib import Path\n",
    "import sys\n",
    "sys.path.append(\"../\")\n",
    "from ressources.ahorcado_recursos import HANGMANPICS, HANGMANPIC_SUCCESS,HANGMANPIC_DEATH, palabras_ahorcado"
   ]
  },
  {
   "cell_type": "code",
   "execution_count": 21,
   "metadata": {},
   "outputs": [],
   "source": [
    "### Apuntes\n",
    "# Valorar si hay forma mejor deshacerme del uso de la copia lista por su método remove\n",
    "#\n",
    "\n",
    "class Ahorcado():\n",
    "    def __init__(self) -> None:\n",
    "        self.intentos = list()\n",
    "        self.display_palabra_lista = list()\n",
    "        self.dibujo = \"\"\n",
    "\n",
    "    def jugar(self):\n",
    "        self.seleccionar_dificultad()\n",
    "        self.generar_palabra()\n",
    "        self.pintar_dibujo()\n",
    "        while \"_\" in self.display_palabra_lista and self.vidas_restantes > 0:\n",
    "            letra_intento = input(\"Escribe una letra:\")\n",
    "            self.comprobar_letra(letra_intento)\n",
    "            self.pintar_dibujo()\n",
    "            self.pintar_display()\n",
    "        if \"_\" not in self.display_palabra_lista:\n",
    "            self.actualizar_dibujo(self.vidas_restantes,\"win\")\n",
    "            print(\"\\n¡Enhorabuena, has ganado!\")\n",
    "\n",
    "        else:\n",
    "            self.actualizar_dibujo(self.vidas_restantes,\"loss\")\n",
    "            print(\"¡NOOOO, has matado al ahorcado!\")\n",
    "            \n",
    "        self.pintar_dibujo()\n",
    "        self.reset()\n",
    "\n",
    "    \n",
    "    def seleccionar_dificultad(self):\n",
    "        self.vidas_restantes = int(input(\"\"\"Elige tu dificultad introduciendo el número de vidas:\n",
    "              Patético: 7 vidas\n",
    "              Nenaza: 6 vidas\n",
    "              Principiante: 5 vidas\n",
    "              Corriente: 4 vidas\n",
    "              Atrevido: 3 vidas\n",
    "              Leyenda: 2 vidas\n",
    "              Puto colgao: 1 vida\n",
    "              \"\"\"))\n",
    "        self.dibujo = HANGMANPICS[-self.vidas_restantes]\n",
    "\n",
    "    def pintar_display(self):\n",
    "        \"\"\"\"\"\"\n",
    "        display_palabra = \"\".join(self.display_palabra_lista)\n",
    "        print(display_palabra)\n",
    "        print(f\"Te quedan {self.vidas_restantes} vidas restantes.\")\n",
    "\n",
    "\n",
    "    def pintar_dibujo(self):\n",
    "        \"\"\"\"\"\"\n",
    "        print(self.dibujo)\n",
    "\n",
    "\n",
    "    def generar_palabra(self) -> None:\n",
    "        \"\"\"\"\"\"\n",
    "        self.palabra_turno_lista = list(random.choice(palabras_ahorcado).lower()) \n",
    "        self.display_palabra_lista = list(\"_\"*len(self.palabra_turno_lista))\n",
    "\n",
    "\n",
    "\n",
    "    def comprobar_letra(self, letra_intento) -> bool:\n",
    "        \"\"\"\"\"\"\n",
    "        if letra_intento in self.palabra_turno_lista:\n",
    "\n",
    "            print(\"¡Acierto!\")\n",
    "            self.actualizar_display(letra_intento)\n",
    "                \n",
    "        else: \n",
    "            self.vidas_restantes -= 1\n",
    "            resultado = \"error\"\n",
    "            self.actualizar_dibujo(self.vidas_restantes,resultado)\n",
    "            \n",
    "            print(\"¡Error!\")\n",
    "\n",
    "        # if \"_\" not in self.display_palabra_lista:\n",
    "        #     self.actualizar_dibujo(self.vidas_restantes,resultado)\n",
    "        #     self.pintar_dibujo()\n",
    "        #     print(\"¡Enhorabuena, has ganado!\")\n",
    "        #     self.reset()\n",
    "        # else:\n",
    "        #     self.pintar_dibujo()\n",
    "        #     self.pintar_display()\n",
    "\n",
    "        # return resultado\n",
    "\n",
    "    def actualizar_display(self,letra_intento):\n",
    "        while letra_intento in self.palabra_turno_lista:\n",
    "            posicion_letra = self.palabra_turno_lista.index(letra_intento)\n",
    "            self.display_palabra_lista[posicion_letra] = letra_intento.upper()\n",
    "            self.palabra_turno_lista[posicion_letra] = \"_\"\n",
    "\n",
    "    \n",
    "    def actualizar_dibujo(self,vidas_restantes,resultado=\"error\") -> None:\n",
    "        \"\"\"\"\"\"\n",
    "        if resultado == \"win\":\n",
    "            self.dibujo = HANGMANPIC_SUCCESS\n",
    "        elif resultado == \"loss\":\n",
    "            self.dibujo = HANGMANPIC_DEATH\n",
    "        else:\n",
    "            self.dibujo = HANGMANPICS[-vidas_restantes]\n",
    "\n",
    "    def reset(self):\n",
    "        seguir_jugando = input(\"¿Deseas volver a jugar? [Y/N]\")\n",
    "        if seguir_jugando == \"Y\":\n",
    "            self.intentos = list()\n",
    "            self.display_palabra_lista = list()\n",
    "            self.generar_palabra()\n",
    "        else:\n",
    "            print(\"¡Ha sido un placer!\")"
   ]
  },
  {
   "cell_type": "code",
   "execution_count": null,
   "metadata": {},
   "outputs": [],
   "source": []
  },
  {
   "cell_type": "code",
   "execution_count": 114,
   "metadata": {},
   "outputs": [],
   "source": [
    "\n",
    "import random \n",
    "\n",
    "class Tres_raya():\n",
    "    def __init__(self) -> None:\n",
    "        self.posiciones = [[\" \" for i in range(3)] for j in range(3)]\n",
    "        self.n_jugadores = 1\n",
    "        self.ficha_jugador = {\n",
    "            \"jugador_1\": \"X\",\n",
    "            \"jugador_2\": \"O\"\n",
    "        }\n",
    "        self.turno = \"jugador_1\"\n",
    "        self.lista_jugadores = [\"jugador_1\",\"jugador_2\"]\n",
    "\n",
    "    def jugar(self):\n",
    "        \n",
    "        self.pintar_tablero()\n",
    "        while not all(posicion != \" \" for fila in self.posiciones for posicion in fila):\n",
    "            coordenada = input(f\"{self.turno.title()}, introduce una coordenada de dos numeros, separados por una coma: \")\n",
    "            self.introducir_ficha(coordenada)\n",
    "            self.pintar_tablero()\n",
    "            if self.comprobar_victoria() == True:\n",
    "                print(f\"¡VICTORIA DEL {self.turno.upper()}\")\n",
    "                break\n",
    "            self.actualizar_turno()\n",
    "\n",
    "        self.reset()\n",
    "\n",
    "\n",
    "    def elegir_jugadores(self):\n",
    "        self.n_jugadores = int(input(\"¿Cuantos jugadores sois?\"))\n",
    "        if self.n_jugadores == 1:\n",
    "            print(\"De acuerdo. El jugador 2 será la máquina.\")\n",
    "        else:\n",
    "            print(\"Demostrad vuestro fair play y que gane el mejor.\")\n",
    "    \n",
    "    def elegir_turnos(self):\n",
    "        eleccion_turnos = int(input(\"\"\"¿Quien empieza? Introduce un número\n",
    "                            1. Jugador_1\n",
    "                            2. Jugador_2\n",
    "                            3. Aleatorio\"\"\"))\n",
    "        \n",
    "    def actualizar_turno(self):\n",
    "        self.lista_jugadores = list(reversed(self.lista_jugadores))\n",
    "        self.turno = self.lista_jugadores[0]\n",
    "        pass\n",
    "    \n",
    "    # def elegir_ficha(self):\n",
    "    #     eleccion_fichas = int(input(\"\"\"¿Con que ficha quieres jugar? Introduce un número\n",
    "    #                             1. X\n",
    "    #                             2. O\n",
    "    #                             3. Aleatorio\"\"\"))\n",
    "    #     opciones_fichas = {\n",
    "    #         1: \"X\",\n",
    "    #         2: \"O\",\n",
    "    #         3: random.choice([\"X\",\"O\"])\n",
    "           \n",
    "    #     self.fichas = {\n",
    "    #         \"jugados_1\": ,\n",
    "    #         \"jugador_2\": \"O\"\n",
    "    #     }\n",
    "        \n",
    "        \n",
    "    # def estrategia_maquina():\n",
    "    #     def celdas_vacias(acumulado,iteracion):\n",
    "    #         pass\n",
    "    #     reduce(celdas_vacias,self.posiciones)\n",
    "    #     pass\n",
    "        \n",
    "\n",
    "    def introducir_ficha(self, coordenada):\n",
    "        fila, columna = coordenada.split(\",\")\n",
    "        fila = int(fila)\n",
    "        columna = int(columna)\n",
    "        if self.posiciones[fila][columna] == \" \":\n",
    "            self.posiciones[fila][columna] = self.ficha_jugador[self.turno]\n",
    "        else:\n",
    "            coordenada = input(\"La coordenada introducida ya está ocupada. Por favor introduce otra distinta: \")\n",
    "            self.introducir_ficha(coordenada)\n",
    "    \n",
    "    def pintar_tablero(self):\n",
    "        [print(f\"({fila[0]}) ({fila[1]}) ({fila[2]})\") for fila in self.posiciones]\n",
    "        print(\"\\n ---\")\n",
    "\n",
    "    def comprobar_victoria(self):\n",
    "        lineas = {\n",
    "            \"vertical_0\": [fila[0] for fila in self.posiciones],\n",
    "            \"vertical_1\": [fila[1] for fila in self.posiciones],\n",
    "            \"vertical_2\": [fila[2] for fila in self.posiciones],\n",
    "            \"horizontal_0\": self.posiciones[0],\n",
    "            \"horizontal_1\": self.posiciones[1],\n",
    "            \"horizontal_2\": self.posiciones[2],\n",
    "            \"diagonal_0,0\": [fila[posicion] for posicion,fila in enumerate(self.posiciones)],\n",
    "            \"diagonal_2,0\": [fila[posicion] for posicion,fila in enumerate(reversed(self.posiciones))]\n",
    "        }\n",
    "\n",
    "        for linea, contenido_linea in lineas.items():\n",
    "            if not all([posicion != \"\" for posicion in contenido_linea]):\n",
    "                return True\n",
    "        return False\n",
    "\n",
    "\n",
    "    def reset(self):\n",
    "        seguir_jugando = input(\"¿Deseas volver a jugar? [Y/N]\")\n",
    "        if seguir_jugando.upper()[0] == \"Y\":\n",
    "            self.__init__()\n",
    "            self.jugar()\n",
    "        else:\n",
    "            print(\"¡Ha sido un placer!\")\n",
    "    \n",
    "\n",
    "\n"
   ]
  },
  {
   "cell_type": "code",
   "execution_count": 116,
   "metadata": {},
   "outputs": [],
   "source": [
    "\n",
    "import random \n",
    "\n",
    "class Tres_raya():\n",
    "    def __init__(self) -> None:\n",
    "        self.posiciones = [[\" \" for i in range(3)] for j in range(3)]\n",
    "        self.coordenadas = [[f\"{fila},{columna}\" for columna in range(3)] for fila in range(3)]\n",
    "        self.n_jugadores = 1\n",
    "        self.ficha_jugador = {\n",
    "            \"jugador_1\": \"X\",\n",
    "            \"jugador_2\": \"O\"\n",
    "        }\n",
    "        self.turno = \"jugador_1\"\n",
    "        self.lista_jugadores = [\"jugador_1\",\"jugador_2\"]\n",
    "\n",
    "    def jugar(self):\n",
    "        \n",
    "        self.pintar_tablero()\n",
    "        while not all(posicion != \" \" for fila in self.posiciones for posicion in fila):\n",
    "            coordenada = input(f\"{self.turno.title()}, introduce una coordenada de dos numeros, separados por una coma: \")\n",
    "            self.introducir_ficha(coordenada)\n",
    "            self.pintar_tablero()\n",
    "            if self.comprobar_victoria() == True:\n",
    "                print(f\"¡VICTORIA DEL {self.turno.upper()}\")\n",
    "                break\n",
    "            self.actualizar_turno()\n",
    "\n",
    "        self.reset()\n",
    "\n",
    "\n",
    "    def elegir_jugadores(self):\n",
    "        self.n_jugadores = int(input(\"¿Cuantos jugadores sois?\"))\n",
    "        if self.n_jugadores == 1:\n",
    "            print(\"De acuerdo. El jugador 2 será la máquina.\")\n",
    "        else:\n",
    "            print(\"Demostrad vuestro fair play y que gane el mejor.\")\n",
    "    \n",
    "    def elegir_turnos(self):\n",
    "        eleccion_turnos = int(input(\"\"\"¿Quien empieza? Introduce un número\n",
    "                            1. Jugador_1\n",
    "                            2. Jugador_2\n",
    "                            3. Aleatorio\"\"\"))\n",
    "        \n",
    "    def actualizar_turno(self):\n",
    "        self.lista_jugadores = list(reversed(self.lista_jugadores))\n",
    "        self.turno = self.lista_jugadores[0]\n",
    "        pass\n",
    "    \n",
    "    # def elegir_ficha(self):\n",
    "    #     eleccion_fichas = int(input(\"\"\"¿Con que ficha quieres jugar? Introduce un número\n",
    "    #                             1. X\n",
    "    #                             2. O\n",
    "    #                             3. Aleatorio\"\"\"))\n",
    "    #     opciones_fichas = {\n",
    "    #         1: \"X\",\n",
    "    #         2: \"O\",\n",
    "    #         3: random.choice([\"X\",\"O\"])\n",
    "           \n",
    "    #     self.fichas = {\n",
    "    #         \"jugados_1\": ,\n",
    "    #         \"jugador_2\": \"O\"\n",
    "    #     }\n",
    "        \n",
    "        \n",
    "    def estrategia_maquina():\n",
    "        def celdas_vacias(acumulado,iteracion):\n",
    "            pass\n",
    "        reduce(celdas_vacias,self.posiciones)\n",
    "        pass\n",
    "        \n",
    "\n",
    "    def introducir_ficha(self, coordenada):\n",
    "        fila, columna = coordenada.split(\",\")\n",
    "        fila = int(fila)\n",
    "        columna = int(columna)\n",
    "        if self.posiciones[fila][columna] == \" \":\n",
    "            self.posiciones[fila][columna] = self.ficha_jugador[self.turno]\n",
    "        else:\n",
    "            coordenada = input(\"La coordenada introducida ya está ocupada. Por favor introduce otra distinta: \")\n",
    "            self.introducir_ficha(coordenada)\n",
    "    \n",
    "    def pintar_tablero(self):\n",
    "        [print(f\"({fila[0]}) ({fila[1]}) ({fila[2]})\") for fila in self.posiciones]\n",
    "        print(\"\\n ---\")\n",
    "\n",
    "    def comprobar_victoria(self):\n",
    "        lineas = {\n",
    "            \"vertical_0\": [fila[0] for fila in self.posiciones],\n",
    "            \"vertical_1\": [fila[1] for fila in self.posiciones],\n",
    "            \"vertical_2\": [fila[2] for fila in self.posiciones],\n",
    "            \"horizontal_0\": self.posiciones[0],\n",
    "            \"horizontal_1\": self.posiciones[1],\n",
    "            \"horizontal_2\": self.posiciones[2],\n",
    "            \"diagonal_0,0\": [fila[posicion] for posicion,fila in enumerate(self.posiciones)],\n",
    "            \"diagonal_2,0\": [fila[posicion] for posicion,fila in enumerate(reversed(self.posiciones))]\n",
    "        }\n",
    "\n",
    "\n",
    "        for linea, contenido_linea in lineas.items():\n",
    "            print(linea,contenido_linea)\n",
    "            if all([posicion == \"X\" for posicion in contenido_linea]) or all([posicion == \"O\" for posicion in contenido_linea]):\n",
    "                return True\n",
    "        return False\n",
    "\n",
    "\n",
    "    def reset(self):\n",
    "        seguir_jugando = input(\"¿Deseas volver a jugar? [Y/N]\")\n",
    "        if seguir_jugando.upper()[0] == \"Y\":\n",
    "            self.__init__()\n",
    "            self.jugar()\n",
    "        else:\n",
    "            print(\"¡Ha sido un placer!\")"
   ]
  },
  {
   "cell_type": "code",
   "execution_count": 119,
   "metadata": {},
   "outputs": [
    {
     "data": {
      "text/plain": [
       "2"
      ]
     },
     "execution_count": 119,
     "metadata": {},
     "output_type": "execute_result"
    }
   ],
   "source": [
    "random.choice([1,2,3,4])"
   ]
  },
  {
   "cell_type": "code",
   "execution_count": 122,
   "metadata": {},
   "outputs": [
    {
     "ename": "TypeError",
     "evalue": "'dict_values' object is not subscriptable",
     "output_type": "error",
     "traceback": [
      "\u001b[1;31m---------------------------------------------------------------------------\u001b[0m",
      "\u001b[1;31mTypeError\u001b[0m                                 Traceback (most recent call last)",
      "Cell \u001b[1;32mIn[122], line 2\u001b[0m\n\u001b[0;32m      1\u001b[0m dicti \u001b[38;5;241m=\u001b[39m {\u001b[38;5;124m\"\u001b[39m\u001b[38;5;124mclave1\u001b[39m\u001b[38;5;124m\"\u001b[39m:\u001b[38;5;241m1\u001b[39m,\u001b[38;5;124m\"\u001b[39m\u001b[38;5;124mclave2\u001b[39m\u001b[38;5;124m\"\u001b[39m:\u001b[38;5;241m2\u001b[39m}\n\u001b[1;32m----> 2\u001b[0m \u001b[43mdicti\u001b[49m\u001b[38;5;241;43m.\u001b[39;49m\u001b[43mvalues\u001b[49m\u001b[43m(\u001b[49m\u001b[43m)\u001b[49m\u001b[43m[\u001b[49m\u001b[38;5;241;43m0\u001b[39;49m\u001b[43m]\u001b[49m\n",
      "\u001b[1;31mTypeError\u001b[0m: 'dict_values' object is not subscriptable"
     ]
    }
   ],
   "source": [
    "dicti = {\"clave1\":1,\"clave2\":2}\n",
    "dicti.values()[0]"
   ]
  },
  {
   "cell_type": "code",
   "execution_count": 117,
   "metadata": {},
   "outputs": [],
   "source": [
    "tres_en_raya = Tres_raya()"
   ]
  },
  {
   "cell_type": "code",
   "execution_count": 118,
   "metadata": {},
   "outputs": [
    {
     "data": {
      "text/plain": [
       "[['0,0', '0,1', '0,2'], ['1,0', '1,1', '1,2'], ['2,0', '2,1', '2,2']]"
      ]
     },
     "execution_count": 118,
     "metadata": {},
     "output_type": "execute_result"
    }
   ],
   "source": [
    "tres_en_raya.coordenadas"
   ]
  },
  {
   "cell_type": "code",
   "execution_count": null,
   "metadata": {},
   "outputs": [],
   "source": [
    "posiciones = [[[\"\" for i in range(3)] for j in range(3)]]"
   ]
  },
  {
   "cell_type": "code",
   "execution_count": 2,
   "metadata": {},
   "outputs": [
    {
     "ename": "NameError",
     "evalue": "name 'posiciones' is not defined",
     "output_type": "error",
     "traceback": [
      "\u001b[1;31m---------------------------------------------------------------------------\u001b[0m",
      "\u001b[1;31mNameError\u001b[0m                                 Traceback (most recent call last)",
      "Cell \u001b[1;32mIn[2], line 1\u001b[0m\n\u001b[1;32m----> 1\u001b[0m \u001b[38;5;28msorted\u001b[39m(\u001b[38;5;28menumerate\u001b[39m(\u001b[43mposiciones\u001b[49m))\n",
      "\u001b[1;31mNameError\u001b[0m: name 'posiciones' is not defined"
     ]
    }
   ],
   "source": [
    "sorted(enumerate(posiciones))"
   ]
  },
  {
   "cell_type": "code",
   "execution_count": null,
   "metadata": {},
   "outputs": [],
   "source": []
  },
  {
   "cell_type": "code",
   "execution_count": 128,
   "metadata": {},
   "outputs": [],
   "source": [
    "posiciones = [[' ', 'X', 'O'], [' ', ' ', ' '], [' ', ' ', ' ']]\n",
    "lista_coordenadas = [f\"{fila},{columna}\" for columna in range(3) for fila in range(3)]\n",
    "matriz_coordenadas = [[f\"{fila},{columna}\" for columna in range(3)] for fila in range(3)]\n"
   ]
  },
  {
   "cell_type": "code",
   "execution_count": null,
   "metadata": {},
   "outputs": [],
   "source": [
    "modo_automatico = False\n",
    "lineas = {\n",
    "    \"vertical_0\": [fila[0] for fila in posiciones],\n",
    "    \"vertical_1\": [fila[1] for fila in posiciones],\n",
    "    \"vertical_2\": [fila[2] for fila in posiciones],\n",
    "    \"horizontal_0\": posiciones[0],\n",
    "    \"horizontal_1\": posiciones[1],\n",
    "    \"horizontal_2\": posiciones[2],\n",
    "    \"diagonal_0,0\": [fila[posicion] for posicion,fila in enumerate(posiciones)],\n",
    "    \"diagonal_2,0\": [fila[posicion] for posicion,fila in enumerate(reversed(posiciones))]\n",
    "}"
   ]
  },
  {
   "cell_type": "code",
   "execution_count": 125,
   "metadata": {},
   "outputs": [
    {
     "data": {
      "text/plain": [
       "['1,0', '1,1', '1,2']"
      ]
     },
     "execution_count": 125,
     "metadata": {},
     "output_type": "execute_result"
    }
   ],
   "source": [
    "matriz_coordenadas[1]"
   ]
  },
  {
   "cell_type": "code",
   "execution_count": 127,
   "metadata": {},
   "outputs": [
    {
     "data": {
      "text/plain": [
       "['0,2', '1,2', '2,2']"
      ]
     },
     "execution_count": 127,
     "metadata": {},
     "output_type": "execute_result"
    }
   ],
   "source": [
    "[fila[2] for fila in matriz_coordenadas]"
   ]
  },
  {
   "cell_type": "code",
   "execution_count": null,
   "metadata": {},
   "outputs": [],
   "source": []
  }
 ],
 "metadata": {
  "kernelspec": {
   "display_name": "1._GameZone-83q7STzF",
   "language": "python",
   "name": "python3"
  },
  "language_info": {
   "codemirror_mode": {
    "name": "ipython",
    "version": 3
   },
   "file_extension": ".py",
   "mimetype": "text/x-python",
   "name": "python",
   "nbconvert_exporter": "python",
   "pygments_lexer": "ipython3",
   "version": "3.11.4"
  }
 },
 "nbformat": 4,
 "nbformat_minor": 2
}
